{
 "cells": [
  {
   "cell_type": "code",
   "execution_count": 85,
   "metadata": {},
   "outputs": [],
   "source": [
    "from sympy import symbols, Matrix, simplify, trace, diff"
   ]
  },
  {
   "cell_type": "code",
   "execution_count": 86,
   "metadata": {},
   "outputs": [],
   "source": [
    "kx,ky,kz,ux,uy,uz,e0,l,mu,c = symbols('k_x,k_y,k_z,u_x,u_y,u_z,e_0,\\\\lambda,\\\\mu,c')"
   ]
  },
  {
   "cell_type": "code",
   "execution_count": 87,
   "metadata": {},
   "outputs": [],
   "source": [
    "k=Matrix([[kx],[ky],[kz]])\n",
    "u=Matrix([[ux,uy,uz]])\n",
    "I=Matrix([[1,0,0],[0,1,0],[0,0,1]])\n",
    "E0=e0*(c-0.5)*I"
   ]
  },
  {
   "cell_type": "code",
   "execution_count": 88,
   "metadata": {},
   "outputs": [
    {
     "data": {
      "text/latex": [
       "$\\displaystyle \\left[\\begin{matrix}k_{x} u_{x} & k_{x} u_{y} & k_{x} u_{z}\\\\k_{y} u_{x} & k_{y} u_{y} & k_{y} u_{z}\\\\k_{z} u_{x} & k_{z} u_{y} & k_{z} u_{z}\\end{matrix}\\right]$"
      ],
      "text/plain": [
       "Matrix([\n",
       "[k_x*u_x, k_x*u_y, k_x*u_z],\n",
       "[k_y*u_x, k_y*u_y, k_y*u_z],\n",
       "[k_z*u_x, k_z*u_y, k_z*u_z]])"
      ]
     },
     "execution_count": 88,
     "metadata": {},
     "output_type": "execute_result"
    }
   ],
   "source": [
    "# displacement gradient (spectral)\n",
    "du = k @ u\n",
    "du"
   ]
  },
  {
   "cell_type": "code",
   "execution_count": 89,
   "metadata": {},
   "outputs": [
    {
     "data": {
      "text/latex": [
       "$\\displaystyle \\left[\\begin{matrix}- e_{0} \\left(c - 0.5\\right) + 1.0 k_{x} u_{x} & 0.5 k_{x} u_{y} + 0.5 k_{y} u_{x} & 0.5 k_{x} u_{z} + 0.5 k_{z} u_{x}\\\\0.5 k_{x} u_{y} + 0.5 k_{y} u_{x} & - e_{0} \\left(c - 0.5\\right) + 1.0 k_{y} u_{y} & 0.5 k_{y} u_{z} + 0.5 k_{z} u_{y}\\\\0.5 k_{x} u_{z} + 0.5 k_{z} u_{x} & 0.5 k_{y} u_{z} + 0.5 k_{z} u_{y} & - e_{0} \\left(c - 0.5\\right) + 1.0 k_{z} u_{z}\\end{matrix}\\right]$"
      ],
      "text/plain": [
       "Matrix([\n",
       "[-e_0*(c - 0.5) + 1.0*k_x*u_x,    0.5*k_x*u_y + 0.5*k_y*u_x,    0.5*k_x*u_z + 0.5*k_z*u_x],\n",
       "[   0.5*k_x*u_y + 0.5*k_y*u_x, -e_0*(c - 0.5) + 1.0*k_y*u_y,    0.5*k_y*u_z + 0.5*k_z*u_y],\n",
       "[   0.5*k_x*u_z + 0.5*k_z*u_x,    0.5*k_y*u_z + 0.5*k_z*u_y, -e_0*(c - 0.5) + 1.0*k_z*u_z]])"
      ]
     },
     "execution_count": 89,
     "metadata": {},
     "output_type": "execute_result"
    }
   ],
   "source": [
    "# strain tensor\n",
    "E = 1/2 * (du.T + du) - E0\n",
    "E"
   ]
  },
  {
   "cell_type": "code",
   "execution_count": 90,
   "metadata": {},
   "outputs": [
    {
     "data": {
      "text/latex": [
       "$\\displaystyle \\left[\\begin{matrix}\\lambda \\left(- 3 e_{0} \\left(c - 0.5\\right) + 1.0 k_{x} u_{x} + 1.0 k_{y} u_{y} + 1.0 k_{z} u_{z}\\right) + 2 \\mu \\left(- e_{0} \\left(c - 0.5\\right) + 1.0 k_{x} u_{x}\\right) & 2 \\mu \\left(0.5 k_{x} u_{y} + 0.5 k_{y} u_{x}\\right) & 2 \\mu \\left(0.5 k_{x} u_{z} + 0.5 k_{z} u_{x}\\right)\\\\2 \\mu \\left(0.5 k_{x} u_{y} + 0.5 k_{y} u_{x}\\right) & \\lambda \\left(- 3 e_{0} \\left(c - 0.5\\right) + 1.0 k_{x} u_{x} + 1.0 k_{y} u_{y} + 1.0 k_{z} u_{z}\\right) + 2 \\mu \\left(- e_{0} \\left(c - 0.5\\right) + 1.0 k_{y} u_{y}\\right) & 2 \\mu \\left(0.5 k_{y} u_{z} + 0.5 k_{z} u_{y}\\right)\\\\2 \\mu \\left(0.5 k_{x} u_{z} + 0.5 k_{z} u_{x}\\right) & 2 \\mu \\left(0.5 k_{y} u_{z} + 0.5 k_{z} u_{y}\\right) & \\lambda \\left(- 3 e_{0} \\left(c - 0.5\\right) + 1.0 k_{x} u_{x} + 1.0 k_{y} u_{y} + 1.0 k_{z} u_{z}\\right) + 2 \\mu \\left(- e_{0} \\left(c - 0.5\\right) + 1.0 k_{z} u_{z}\\right)\\end{matrix}\\right]$"
      ],
      "text/plain": [
       "Matrix([\n",
       "[\\lambda*(-3*e_0*(c - 0.5) + 1.0*k_x*u_x + 1.0*k_y*u_y + 1.0*k_z*u_z) + 2*\\mu*(-e_0*(c - 0.5) + 1.0*k_x*u_x),                                                                           2*\\mu*(0.5*k_x*u_y + 0.5*k_y*u_x),                                                                           2*\\mu*(0.5*k_x*u_z + 0.5*k_z*u_x)],\n",
       "[                                                                          2*\\mu*(0.5*k_x*u_y + 0.5*k_y*u_x), \\lambda*(-3*e_0*(c - 0.5) + 1.0*k_x*u_x + 1.0*k_y*u_y + 1.0*k_z*u_z) + 2*\\mu*(-e_0*(c - 0.5) + 1.0*k_y*u_y),                                                                           2*\\mu*(0.5*k_y*u_z + 0.5*k_z*u_y)],\n",
       "[                                                                          2*\\mu*(0.5*k_x*u_z + 0.5*k_z*u_x),                                                                           2*\\mu*(0.5*k_y*u_z + 0.5*k_z*u_y), \\lambda*(-3*e_0*(c - 0.5) + 1.0*k_x*u_x + 1.0*k_y*u_y + 1.0*k_z*u_z) + 2*\\mu*(-e_0*(c - 0.5) + 1.0*k_z*u_z)]])"
      ]
     },
     "execution_count": 90,
     "metadata": {},
     "output_type": "execute_result"
    }
   ],
   "source": [
    "# stress tensor\n",
    "s = 2*mu*E + l*trace(E)*I\n",
    "s"
   ]
  },
  {
   "cell_type": "code",
   "execution_count": 91,
   "metadata": {},
   "outputs": [
    {
     "data": {
      "text/latex": [
       "$\\displaystyle \\left[\\begin{matrix}2 \\mu k_{y} \\left(0.5 k_{x} u_{y} + 0.5 k_{y} u_{x}\\right) + 2 \\mu k_{z} \\left(0.5 k_{x} u_{z} + 0.5 k_{z} u_{x}\\right) + k_{x} \\left(\\lambda \\left(- 3 e_{0} \\left(c - 0.5\\right) + 1.0 k_{x} u_{x} + 1.0 k_{y} u_{y} + 1.0 k_{z} u_{z}\\right) + 2 \\mu \\left(- e_{0} \\left(c - 0.5\\right) + 1.0 k_{x} u_{x}\\right)\\right)\\\\2 \\mu k_{x} \\left(0.5 k_{x} u_{y} + 0.5 k_{y} u_{x}\\right) + 2 \\mu k_{z} \\left(0.5 k_{y} u_{z} + 0.5 k_{z} u_{y}\\right) + k_{y} \\left(\\lambda \\left(- 3 e_{0} \\left(c - 0.5\\right) + 1.0 k_{x} u_{x} + 1.0 k_{y} u_{y} + 1.0 k_{z} u_{z}\\right) + 2 \\mu \\left(- e_{0} \\left(c - 0.5\\right) + 1.0 k_{y} u_{y}\\right)\\right)\\\\2 \\mu k_{x} \\left(0.5 k_{x} u_{z} + 0.5 k_{z} u_{x}\\right) + 2 \\mu k_{y} \\left(0.5 k_{y} u_{z} + 0.5 k_{z} u_{y}\\right) + k_{z} \\left(\\lambda \\left(- 3 e_{0} \\left(c - 0.5\\right) + 1.0 k_{x} u_{x} + 1.0 k_{y} u_{y} + 1.0 k_{z} u_{z}\\right) + 2 \\mu \\left(- e_{0} \\left(c - 0.5\\right) + 1.0 k_{z} u_{z}\\right)\\right)\\end{matrix}\\right]$"
      ],
      "text/plain": [
       "Matrix([\n",
       "[2*\\mu*k_y*(0.5*k_x*u_y + 0.5*k_y*u_x) + 2*\\mu*k_z*(0.5*k_x*u_z + 0.5*k_z*u_x) + k_x*(\\lambda*(-3*e_0*(c - 0.5) + 1.0*k_x*u_x + 1.0*k_y*u_y + 1.0*k_z*u_z) + 2*\\mu*(-e_0*(c - 0.5) + 1.0*k_x*u_x))],\n",
       "[2*\\mu*k_x*(0.5*k_x*u_y + 0.5*k_y*u_x) + 2*\\mu*k_z*(0.5*k_y*u_z + 0.5*k_z*u_y) + k_y*(\\lambda*(-3*e_0*(c - 0.5) + 1.0*k_x*u_x + 1.0*k_y*u_y + 1.0*k_z*u_z) + 2*\\mu*(-e_0*(c - 0.5) + 1.0*k_y*u_y))],\n",
       "[2*\\mu*k_x*(0.5*k_x*u_z + 0.5*k_z*u_x) + 2*\\mu*k_y*(0.5*k_y*u_z + 0.5*k_z*u_y) + k_z*(\\lambda*(-3*e_0*(c - 0.5) + 1.0*k_x*u_x + 1.0*k_y*u_y + 1.0*k_z*u_z) + 2*\\mu*(-e_0*(c - 0.5) + 1.0*k_z*u_z))]])"
      ]
     },
     "execution_count": 91,
     "metadata": {},
     "output_type": "execute_result"
    }
   ],
   "source": [
    "# stress divergence\n",
    "M1 = k.T @ s\n",
    "M1.T"
   ]
  },
  {
   "cell_type": "code",
   "execution_count": 92,
   "metadata": {},
   "outputs": [],
   "source": [
    "b = Matrix([\n",
    "  [kx*e0*(3*l+2*mu)],\n",
    "  [ky*e0*(3*l+2*mu)],\n",
    "  [kz*e0*(3*l+2*mu)]])\n",
    "A = Matrix([\n",
    "  [mu*ky**2+mu*kz**2+l*kx**2+2*mu*kx**2, mu*ky*kx+l*kx*ky, mu*kz*kx+l*kz*kx],\n",
    "  [mu*ky*kx+l*kx*ky, mu*kx**2+mu*kz**2+l*ky**2+2*mu*ky**2 , mu*kz*ky+l*kz*ky],\n",
    "  [mu*kz*kx+l*kz*kx ,mu*kz*ky+l*kz*ky, mu*kx**2+mu*ky**2+l*kz**2+2*mu*kz**2]])\n",
    "M2 = A * u.T - b"
   ]
  },
  {
   "cell_type": "code",
   "execution_count": 93,
   "metadata": {},
   "outputs": [
    {
     "data": {
      "text/latex": [
       "$\\displaystyle \\left[\\begin{matrix}e_{0} k_{x} \\left(3.0 \\lambda c - 4.5 \\lambda + 2.0 \\mu c - 3.0 \\mu\\right)\\\\e_{0} k_{y} \\left(3.0 \\lambda c - 4.5 \\lambda + 2.0 \\mu c - 3.0 \\mu\\right)\\\\e_{0} k_{z} \\left(3.0 \\lambda c - 4.5 \\lambda + 2.0 \\mu c - 3.0 \\mu\\right)\\end{matrix}\\right]$"
      ],
      "text/plain": [
       "Matrix([\n",
       "[e_0*k_x*(3.0*\\lambda*c - 4.5*\\lambda + 2.0*\\mu*c - 3.0*\\mu)],\n",
       "[e_0*k_y*(3.0*\\lambda*c - 4.5*\\lambda + 2.0*\\mu*c - 3.0*\\mu)],\n",
       "[e_0*k_z*(3.0*\\lambda*c - 4.5*\\lambda + 2.0*\\mu*c - 3.0*\\mu)]])"
      ]
     },
     "execution_count": 93,
     "metadata": {},
     "output_type": "execute_result"
    }
   ],
   "source": [
    "simplify(M2-M1.T)"
   ]
  },
  {
   "cell_type": "code",
   "execution_count": 94,
   "metadata": {},
   "outputs": [
    {
     "data": {
      "text/latex": [
       "$\\displaystyle \\left[\\begin{matrix}\\lambda k_{x}^{2} + 2 \\mu k_{x}^{2} + \\mu k_{y}^{2} + \\mu k_{z}^{2} & k_{x} k_{y} \\left(\\lambda + \\mu\\right) & k_{x} k_{z} \\left(\\lambda + \\mu\\right)\\\\k_{x} k_{y} \\left(\\lambda + \\mu\\right) & \\lambda k_{y}^{2} + \\mu k_{x}^{2} + 2 \\mu k_{y}^{2} + \\mu k_{z}^{2} & k_{y} k_{z} \\left(\\lambda + \\mu\\right)\\\\k_{x} k_{z} \\left(\\lambda + \\mu\\right) & k_{y} k_{z} \\left(\\lambda + \\mu\\right) & \\lambda k_{z}^{2} + \\mu k_{x}^{2} + \\mu k_{y}^{2} + 2 \\mu k_{z}^{2}\\end{matrix}\\right]$"
      ],
      "text/plain": [
       "Matrix([\n",
       "[\\lambda*k_x**2 + 2*\\mu*k_x**2 + \\mu*k_y**2 + \\mu*k_z**2,                                 k_x*k_y*(\\lambda + \\mu),                                 k_x*k_z*(\\lambda + \\mu)],\n",
       "[                                k_x*k_y*(\\lambda + \\mu), \\lambda*k_y**2 + \\mu*k_x**2 + 2*\\mu*k_y**2 + \\mu*k_z**2,                                 k_y*k_z*(\\lambda + \\mu)],\n",
       "[                                k_x*k_z*(\\lambda + \\mu),                                 k_y*k_z*(\\lambda + \\mu), \\lambda*k_z**2 + \\mu*k_x**2 + \\mu*k_y**2 + 2*\\mu*k_z**2]])"
      ]
     },
     "execution_count": 94,
     "metadata": {},
     "output_type": "execute_result"
    }
   ],
   "source": [
    "simplify(A)"
   ]
  },
  {
   "cell_type": "code",
   "execution_count": 95,
   "metadata": {},
   "outputs": [
    {
     "data": {
      "text/latex": [
       "$\\displaystyle \\left[\\begin{matrix}e_{0} k_{x} \\left(3 \\lambda + 2 \\mu\\right)\\\\e_{0} k_{y} \\left(3 \\lambda + 2 \\mu\\right)\\\\e_{0} k_{z} \\left(3 \\lambda + 2 \\mu\\right)\\end{matrix}\\right]$"
      ],
      "text/plain": [
       "Matrix([\n",
       "[e_0*k_x*(3*\\lambda + 2*\\mu)],\n",
       "[e_0*k_y*(3*\\lambda + 2*\\mu)],\n",
       "[e_0*k_z*(3*\\lambda + 2*\\mu)]])"
      ]
     },
     "execution_count": 95,
     "metadata": {},
     "output_type": "execute_result"
    }
   ],
   "source": [
    "b"
   ]
  },
  {
   "cell_type": "code",
   "execution_count": 96,
   "metadata": {},
   "outputs": [
    {
     "data": {
      "text/latex": [
       "$\\displaystyle \\left[\\begin{matrix}\\lambda \\left(- 3 e_{0} \\left(c - 0.5\\right) + 1.0 k_{x} u_{x} + 1.0 k_{y} u_{y} + 1.0 k_{z} u_{z}\\right) + 2 \\mu \\left(- e_{0} \\left(c - 0.5\\right) + 1.0 k_{x} u_{x}\\right) & 2 \\mu \\left(0.5 k_{x} u_{y} + 0.5 k_{y} u_{x}\\right) & 2 \\mu \\left(0.5 k_{x} u_{z} + 0.5 k_{z} u_{x}\\right)\\\\2 \\mu \\left(0.5 k_{x} u_{y} + 0.5 k_{y} u_{x}\\right) & \\lambda \\left(- 3 e_{0} \\left(c - 0.5\\right) + 1.0 k_{x} u_{x} + 1.0 k_{y} u_{y} + 1.0 k_{z} u_{z}\\right) + 2 \\mu \\left(- e_{0} \\left(c - 0.5\\right) + 1.0 k_{y} u_{y}\\right) & 2 \\mu \\left(0.5 k_{y} u_{z} + 0.5 k_{z} u_{y}\\right)\\\\2 \\mu \\left(0.5 k_{x} u_{z} + 0.5 k_{z} u_{x}\\right) & 2 \\mu \\left(0.5 k_{y} u_{z} + 0.5 k_{z} u_{y}\\right) & \\lambda \\left(- 3 e_{0} \\left(c - 0.5\\right) + 1.0 k_{x} u_{x} + 1.0 k_{y} u_{y} + 1.0 k_{z} u_{z}\\right) + 2 \\mu \\left(- e_{0} \\left(c - 0.5\\right) + 1.0 k_{z} u_{z}\\right)\\end{matrix}\\right]$"
      ],
      "text/plain": [
       "Matrix([\n",
       "[\\lambda*(-3*e_0*(c - 0.5) + 1.0*k_x*u_x + 1.0*k_y*u_y + 1.0*k_z*u_z) + 2*\\mu*(-e_0*(c - 0.5) + 1.0*k_x*u_x),                                                                           2*\\mu*(0.5*k_x*u_y + 0.5*k_y*u_x),                                                                           2*\\mu*(0.5*k_x*u_z + 0.5*k_z*u_x)],\n",
       "[                                                                          2*\\mu*(0.5*k_x*u_y + 0.5*k_y*u_x), \\lambda*(-3*e_0*(c - 0.5) + 1.0*k_x*u_x + 1.0*k_y*u_y + 1.0*k_z*u_z) + 2*\\mu*(-e_0*(c - 0.5) + 1.0*k_y*u_y),                                                                           2*\\mu*(0.5*k_y*u_z + 0.5*k_z*u_y)],\n",
       "[                                                                          2*\\mu*(0.5*k_x*u_z + 0.5*k_z*u_x),                                                                           2*\\mu*(0.5*k_y*u_z + 0.5*k_z*u_y), \\lambda*(-3*e_0*(c - 0.5) + 1.0*k_x*u_x + 1.0*k_y*u_y + 1.0*k_z*u_z) + 2*\\mu*(-e_0*(c - 0.5) + 1.0*k_z*u_z)]])"
      ]
     },
     "execution_count": 96,
     "metadata": {},
     "output_type": "execute_result"
    }
   ],
   "source": [
    "s"
   ]
  },
  {
   "cell_type": "code",
   "execution_count": 97,
   "metadata": {},
   "outputs": [
    {
     "data": {
      "text/latex": [
       "$\\displaystyle \\left[\\begin{matrix}- e_{0} \\left(c - 0.5\\right) + 1.0 k_{x} u_{x} & 0.5 k_{x} u_{y} + 0.5 k_{y} u_{x} & 0.5 k_{x} u_{z} + 0.5 k_{z} u_{x}\\\\0.5 k_{x} u_{y} + 0.5 k_{y} u_{x} & - e_{0} \\left(c - 0.5\\right) + 1.0 k_{y} u_{y} & 0.5 k_{y} u_{z} + 0.5 k_{z} u_{y}\\\\0.5 k_{x} u_{z} + 0.5 k_{z} u_{x} & 0.5 k_{y} u_{z} + 0.5 k_{z} u_{y} & - e_{0} \\left(c - 0.5\\right) + 1.0 k_{z} u_{z}\\end{matrix}\\right]$"
      ],
      "text/plain": [
       "Matrix([\n",
       "[-e_0*(c - 0.5) + 1.0*k_x*u_x,    0.5*k_x*u_y + 0.5*k_y*u_x,    0.5*k_x*u_z + 0.5*k_z*u_x],\n",
       "[   0.5*k_x*u_y + 0.5*k_y*u_x, -e_0*(c - 0.5) + 1.0*k_y*u_y,    0.5*k_y*u_z + 0.5*k_z*u_y],\n",
       "[   0.5*k_x*u_z + 0.5*k_z*u_x,    0.5*k_y*u_z + 0.5*k_z*u_y, -e_0*(c - 0.5) + 1.0*k_z*u_z]])"
      ]
     },
     "execution_count": 97,
     "metadata": {},
     "output_type": "execute_result"
    }
   ],
   "source": [
    "E"
   ]
  },
  {
   "cell_type": "code",
   "execution_count": 51,
   "metadata": {},
   "outputs": [],
   "source": [
    "Emech = 1/2 * (E.col(0).T*s.col(0) + E.col(1).T*s.col(1) + E.col(2).T*s.col(2))"
   ]
  },
  {
   "cell_type": "code",
   "execution_count": 59,
   "metadata": {},
   "outputs": [
    {
     "data": {
      "text/latex": [
       "$\\displaystyle e_{0} \\cdot \\left(9.0 \\lambda c e_{0} - 4.5 \\lambda e_{0} - 3.0 \\lambda k_{x} u_{x} - 3.0 \\lambda k_{y} u_{y} - 3.0 \\lambda k_{z} u_{z} + 6.0 \\mu c e_{0} - 3.0 \\mu e_{0} - 2.0 \\mu k_{x} u_{x} - 2.0 \\mu k_{y} u_{y} - 2.0 \\mu k_{z} u_{z}\\right)$"
      ],
      "text/plain": [
       "e_0*(9.0*\\lambda*c*e_0 - 4.5*\\lambda*e_0 - 3.0*\\lambda*k_x*u_x - 3.0*\\lambda*k_y*u_y - 3.0*\\lambda*k_z*u_z + 6.0*\\mu*c*e_0 - 3.0*\\mu*e_0 - 2.0*\\mu*k_x*u_x - 2.0*\\mu*k_y*u_y - 2.0*\\mu*k_z*u_z)"
      ]
     },
     "execution_count": 59,
     "metadata": {},
     "output_type": "execute_result"
    }
   ],
   "source": [
    "mumech = simplify(diff(Emech,c))[0]\n",
    "mumech"
   ]
  },
  {
   "cell_type": "code",
   "execution_count": 77,
   "metadata": {},
   "outputs": [
    {
     "data": {
      "text/latex": [
       "$\\displaystyle 0$"
      ],
      "text/plain": [
       "0"
      ]
     },
     "execution_count": 77,
     "metadata": {},
     "output_type": "execute_result"
    }
   ],
   "source": [
    "mumech2 = e0*(e0*(9*l*c-9/2*l+mu*(6*c-3))-(2*mu+3*l)*(kx*ux+ky*uy+kz*uz))\n",
    "simplify(mumech-mumech2)"
   ]
  },
  {
   "cell_type": "code",
   "execution_count": 78,
   "metadata": {},
   "outputs": [
    {
     "data": {
      "text/latex": [
       "$\\displaystyle e_{0} \\left(e_{0} \\cdot \\left(9 \\lambda c - 4.5 \\lambda + \\mu \\left(6 c - 3\\right)\\right) - \\left(3 \\lambda + 2 \\mu\\right) \\left(k_{x} u_{x} + k_{y} u_{y} + k_{z} u_{z}\\right)\\right)$"
      ],
      "text/plain": [
       "e_0*(e_0*(9*\\lambda*c - 4.5*\\lambda + \\mu*(6*c - 3)) - (3*\\lambda + 2*\\mu)*(k_x*u_x + k_y*u_y + k_z*u_z))"
      ]
     },
     "execution_count": 78,
     "metadata": {},
     "output_type": "execute_result"
    }
   ],
   "source": [
    "mumech2"
   ]
  },
  {
   "cell_type": "code",
   "execution_count": 79,
   "metadata": {},
   "outputs": [
    {
     "data": {
      "text/latex": [
       "$\\displaystyle e_{0} \\left(e_{0} \\cdot \\left(9 \\lambda c - 4.5 \\lambda + 3 \\mu \\left(2 c - 1\\right)\\right) - \\left(3 \\lambda + 2 \\mu\\right) \\left(k_{x} u_{x} + k_{y} u_{y} + k_{z} u_{z}\\right)\\right)$"
      ],
      "text/plain": [
       "e_0*(e_0*(9*\\lambda*c - 4.5*\\lambda + 3*\\mu*(2*c - 1)) - (3*\\lambda + 2*\\mu)*(k_x*u_x + k_y*u_y + k_z*u_z))"
      ]
     },
     "execution_count": 79,
     "metadata": {},
     "output_type": "execute_result"
    }
   ],
   "source": [
    "simplify(mumech2)"
   ]
  },
  {
   "cell_type": "code",
   "execution_count": null,
   "metadata": {},
   "outputs": [],
   "source": []
  }
 ],
 "metadata": {
  "kernelspec": {
   "display_name": "jupyter",
   "language": "python",
   "name": "python3"
  },
  "language_info": {
   "codemirror_mode": {
    "name": "ipython",
    "version": 3
   },
   "file_extension": ".py",
   "mimetype": "text/x-python",
   "name": "python",
   "nbconvert_exporter": "python",
   "pygments_lexer": "ipython3",
   "version": "3.10.6"
  }
 },
 "nbformat": 4,
 "nbformat_minor": 2
}
