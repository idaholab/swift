{
 "cells": [
  {
   "cell_type": "code",
   "execution_count": null,
   "metadata": {},
   "outputs": [],
   "source": [
    "import matplotlib.pyplot as plt\n",
    "import numpy as np\n",
    "from numpy import cos,sin,pi\n",
    "import h5py"
   ]
  },
  {
   "cell_type": "markdown",
   "metadata": {},
   "source": [
    "Work out an approximate initial condition for the Swift-Hohenberg rotated grain test"
   ]
  },
  {
   "cell_type": "code",
   "execution_count": 20,
   "metadata": {},
   "outputs": [],
   "source": [
    "def crystal(x,y, angle):\n",
    "  a = angle\n",
    "  return -sin(sin(a)*y/2+cos(a)*x/2)**2 + sin(sin(a+1/3*pi)*y/2+cos(a+1/3*pi)*x/2)**2 + sin(sin(a-1/3*pi)*y/2+cos(a-1/3*pi)*x/2)**2\n",
    "\n",
    "w=6\n",
    "xmax = w*pi*2\n",
    "ymax = w*pi*2/sin(pi/3)"
   ]
  },
  {
   "cell_type": "code",
   "execution_count": null,
   "metadata": {},
   "outputs": [],
   "source": [
    "x = np.linspace(0, xmax, 100)\n",
    "y = np.linspace(0, ymax, 100)\n",
    "z = np.array([crystal(i,j,0) for j in y for i in x])\n",
    "\n",
    "X, Y = np.meshgrid(x, y)\n",
    "Z = z.reshape(100, 100)\n",
    "\n",
    "plt.pcolor(X, Y, Z)\n",
    "plt.colorbar()\n",
    "plt.show()"
   ]
  },
  {
   "cell_type": "markdown",
   "metadata": {},
   "source": [
    "How to visualize frames of an XDMF h5 file in python"
   ]
  },
  {
   "cell_type": "code",
   "execution_count": null,
   "metadata": {},
   "outputs": [],
   "source": [
    "# load the hdf5 part of the XDMF output\n",
    "h5 = h5py.File('rotating_grain_secant.h5')\n",
    "h5.keys()"
   ]
  },
  {
   "cell_type": "code",
   "execution_count": null,
   "metadata": {},
   "outputs": [],
   "source": [
    "# get a dataset as a numpy array\n",
    "data = h5['psi.12'][...]\n",
    "\n",
    "# generate a mesh grid\n",
    "x = np.linspace(0, xmax, data.shape[0])\n",
    "y = np.linspace(0, ymax, data.shape[1])\n",
    "X, Y = np.meshgrid(x, y)\n",
    "\n",
    "# plot dataset\n",
    "plt.pcolor(Y, X, data)\n",
    "plt.colorbar()\n",
    "plt.show()"
   ]
  }
 ],
 "metadata": {
  "kernelspec": {
   "display_name": "jupyter",
   "language": "python",
   "name": "python3"
  },
  "language_info": {
   "codemirror_mode": {
    "name": "ipython",
    "version": 3
   },
   "file_extension": ".py",
   "mimetype": "text/x-python",
   "name": "python",
   "nbconvert_exporter": "python",
   "pygments_lexer": "ipython3",
   "version": "3.13.1"
  }
 },
 "nbformat": 4,
 "nbformat_minor": 2
}
