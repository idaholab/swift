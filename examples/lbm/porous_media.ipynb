{
 "cells": [
  {
   "cell_type": "markdown",
   "metadata": {},
   "source": [
    "# An example for preprocessing, simulating and postprocessing porous media with LBM"
   ]
  },
  {
   "cell_type": "code",
   "execution_count": null,
   "metadata": {},
   "outputs": [],
   "source": [
    "import numpy as np\n",
    "\n",
    "nx = 32\n",
    "ny = 32\n",
    "Kn = np.loadtxt(\"./data/Kn.dat\").reshape((nx, ny))\n",
    "local_pore_size = np.loadtxt(\"./data/localporesize.dat\").reshape((nx, ny))\n",
    "pore = np.loadtxt(\"./data/pore.dat\").reshape((nx, ny))"
   ]
  },
  {
   "cell_type": "code",
   "execution_count": null,
   "metadata": {},
   "outputs": [],
   "source": [
    "import matplotlib.pyplot as plt\n",
    "\n",
    "fig, axs = plt.subplots(1, 3, figsize=(10, 5))\n",
    "\n",
    "im0 = axs[0].imshow(1-pore, cmap = \"binary\")\n",
    "axs[0].set_title(\"Binary porous media\")\n",
    "\n",
    "im1 = axs[1].imshow(Kn, cmap = 'jet')\n",
    "axs[1].set_title(\"Local Kn distribution\")\n",
    "fig.colorbar(im1, orientation='vertical', fraction=0.046, pad=0.04)\n",
    "\n",
    "im2 = axs[2].imshow(local_pore_size, cmap='jet')\n",
    "axs[2].set_title(\"Local pore size distribution\")\n",
    "fig.colorbar(im2, orientation='vertical', fraction=0.046, pad=0.04)\n",
    "\n",
    "plt.tight_layout()"
   ]
  },
  {
   "cell_type": "code",
   "execution_count": null,
   "metadata": {},
   "outputs": [],
   "source": [
    "%run -i \"../../scripts/create_vtk.py\" \"./data\" 32 32 \"./data/porous_media.vts\""
   ]
  },
  {
   "cell_type": "code",
   "execution_count": null,
   "metadata": {},
   "outputs": [],
   "source": []
  }
 ],
 "metadata": {
  "kernelspec": {
   "display_name": "pytorch_swift",
   "language": "python",
   "name": "python3"
  },
  "language_info": {
   "codemirror_mode": {
    "name": "ipython",
    "version": 3
   },
   "file_extension": ".py",
   "mimetype": "text/x-python",
   "name": "python",
   "nbconvert_exporter": "python",
   "pygments_lexer": "ipython3",
   "version": "3.13.3"
  }
 },
 "nbformat": 4,
 "nbformat_minor": 2
}
