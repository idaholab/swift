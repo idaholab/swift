{
 "cells": [
  {
   "cell_type": "code",
   "execution_count": 15,
   "id": "31969952",
   "metadata": {},
   "outputs": [],
   "source": [
    "import matplotlib.pyplot as plt\n",
    "import matplotlib.colors as colors\n",
    "import numpy as np\n",
    "import h5py\n",
    "import xml.etree.ElementTree as ET\n",
    "import os\n",
    "from PIL import Image\n",
    "import glob\n",
    "import os\n",
    "import cmcrameri.cm as cmc"
   ]
  },
  {
   "cell_type": "code",
   "execution_count": 16,
   "id": "8d5836eb",
   "metadata": {},
   "outputs": [
    {
     "data": {
      "text/plain": [
       "<matplotlib.colorbar.Colorbar at 0x12e1d6490>"
      ]
     },
     "execution_count": 16,
     "metadata": {},
     "output_type": "execute_result"
    },
    {
     "data": {
      "image/png": "[encoded data removed]",
      "text/plain": [
       "<Figure size 640x480 with 2 Axes>"
      ]
     },
     "metadata": {},
     "output_type": "display_data"
    }
   ],
   "source": [
    "with h5py.File('no_slip.h5', 'r') as hf:\n",
    "    keys = list(hf.keys())\n",
    "    c_key_idx = np.sort([int(k.split('.')[-1]) for k in keys if 'u_magnitude' in k])\n",
    "    # print(c_key_idx[-1])\n",
    "\n",
    "    u_magnitude = hf['u_magnitude.'+str(c_key_idx[-1])][()].T\n",
    "\n",
    "cm = cmc.vik\n",
    "\n",
    "plt.imshow(u_magnitude,cmap=cm)\n",
    "plt.colorbar()\n"
   ]
  },
  {
   "cell_type": "code",
   "execution_count": 17,
   "id": "a29b82d5",
   "metadata": {},
   "outputs": [
    {
     "name": "stdout",
     "output_type": "stream",
     "text": [
      "Folder './render_dir' already exists.\n"
     ]
    }
   ],
   "source": [
    "folder_path = \"./render_dir\"\n",
    "\n",
    "if not os.path.exists(folder_path):\n",
    "    os.makedirs(folder_path)\n",
    "    print(f\"Folder '{folder_path}' created.\")\n",
    "else:\n",
    "    print(f\"Folder '{folder_path}' already exists.\")"
   ]
  },
  {
   "cell_type": "code",
   "execution_count": 18,
   "id": "babd6926",
   "metadata": {},
   "outputs": [],
   "source": [
    "plot_var_name = 'u_magnitude'\n",
    "with h5py.File('no_slip.h5', 'r') as hf:\n",
    "    keys = list(hf.keys())\n",
    "    c_key_idx = np.sort([int(k.split('.')[-1]) for k in keys if 'u_magnitude' in k])\n",
    "    psi = hf['u_magnitude.0'][()].T\n",
    "\n",
    "    for i in c_key_idx:\n",
    "        plot_var = hf[f'{plot_var_name}.{str(i)}'][()].T\n",
    "\n",
    "        # remove all values where psi == 0\n",
    "        # plot_var *= psi > 0.0\n",
    "\n",
    "        plt.figure()\n",
    "        plt.imshow(plot_var,cmap=cm)\n",
    "        plt.colorbar()\n",
    "        # plt.contour(psi,[0.0],colors='k',linestyles='--')\n",
    "        # plt.show()\n",
    "        plt.savefig(folder_path+f'/{plot_var_name}_{str(i)}.png')\n",
    "        plt.close()"
   ]
  },
  {
   "cell_type": "code",
   "execution_count": 19,
   "id": "f92547f6",
   "metadata": {},
   "outputs": [],
   "source": [
    "#DEFINE BASE NAME FOR FILES\n",
    "file_names = f\"{folder_path}/{plot_var_name}_\"\n",
    "#NAME OF VIDEO FILE TO GENERATE\n",
    "gif_file_name = f'{plot_var_name}_plot.gif'\n",
    "#PARAMETERS FOR VIDEO\n",
    "n_frames = i\n",
    "fps = 20\n",
    "\n",
    "frames =[]\n",
    "for i in range(n_frames):\n",
    "    frames += [Image.open(file_names+str(i)+'.png')]\n",
    "\n",
    "#EACH FRAME LASTS 1000/FPS MILLISECONDS\n",
    "frame_duration = 1000/fps\n",
    "#SAVE PIL.IMAGE SEQUENCE INTO A GIF --> TURN ON OPTIMIZE FOR SMALLER FILE SIZE\n",
    "frames[0].save(gif_file_name,save_all=True,optimize=False,append_images=frames[1:],loop=0,duration=frame_duration)"
   ]
  }
 ],
 "metadata": {
  "kernelspec": {
   "display_name": "pytorch_swift",
   "language": "python",
   "name": "python3"
  },
  "language_info": {
   "codemirror_mode": {
    "name": "ipython",
    "version": 3
   },
   "file_extension": ".py",
   "mimetype": "text/x-python",
   "name": "python",
   "nbconvert_exporter": "python",
   "pygments_lexer": "ipython3",
   "version": "3.13.3"
  }
 },
 "nbformat": 4,
 "nbformat_minor": 5
}
