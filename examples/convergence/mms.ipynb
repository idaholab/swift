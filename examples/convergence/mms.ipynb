{
 "cells": [
  {
   "cell_type": "code",
   "execution_count": null,
   "id": "b1fa4223",
   "metadata": {},
   "outputs": [],
   "source": [
    "from sympy import symbols, diff, exp, sin, simplify, ccode\n",
    "import sys\n",
    "sys.path.append('../../moose/python')\n",
    "from mms import print_fparser\n"
   ]
  },
  {
   "cell_type": "code",
   "execution_count": null,
   "id": "06478fd5",
   "metadata": {},
   "outputs": [],
   "source": [
    "x,t, nu = symbols('x t ${nu}')\n",
    "\n",
    "# desired solution\n",
    "u = sin(x)**3 * exp(-t)\n",
    "u"
   ]
  },
  {
   "cell_type": "code",
   "execution_count": null,
   "id": "90319c41",
   "metadata": {},
   "outputs": [],
   "source": [
    "dudx = diff(u, x)\n",
    "d2udx2 = diff(u, x, x)\n",
    "dudt = diff(u, t)\n",
    "\n",
    "# Burger's Equation\n",
    "f = dudt + u*dudx - nu*d2udx2"
   ]
  },
  {
   "cell_type": "code",
   "execution_count": null,
   "id": "bf7627e2",
   "metadata": {},
   "outputs": [],
   "source": [
    "# implement\n",
    "print_fparser(simplify(f))"
   ]
  },
  {
   "cell_type": "code",
   "execution_count": null,
   "id": "db6b8b14",
   "metadata": {},
   "outputs": [],
   "source": []
  }
 ],
 "metadata": {
  "kernelspec": {
   "display_name": "jupyter",
   "language": "python",
   "name": "python3"
  },
  "language_info": {
   "codemirror_mode": {
    "name": "ipython",
    "version": 3
   },
   "file_extension": ".py",
   "mimetype": "text/x-python",
   "name": "python",
   "nbconvert_exporter": "python",
   "pygments_lexer": "ipython3",
   "version": "3.9.21"
  }
 },
 "nbformat": 4,
 "nbformat_minor": 5
}
