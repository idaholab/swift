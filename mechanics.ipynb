{
 "cells": [
  {
   "cell_type": "code",
   "execution_count": 73,
   "metadata": {},
   "outputs": [],
   "source": [
    "from sympy import symbols, Matrix, simplify, trace"
   ]
  },
  {
   "cell_type": "code",
   "execution_count": 109,
   "metadata": {},
   "outputs": [],
   "source": [
    "kx,ky,kz,ux,uy,uz,e0,l,mu = symbols(\"k_x,k_y,k_z,u_x,u_y,U_z,e_0,\\lambda,\\mu\")"
   ]
  },
  {
   "cell_type": "code",
   "execution_count": 110,
   "metadata": {},
   "outputs": [],
   "source": [
    "k=Matrix([[kx],[ky],[kz]])\n",
    "u=Matrix([[ux,uy,uz]])\n",
    "I=Matrix([[1,0,0],[0,1,0],[0,0,1]])\n",
    "E0=e0*I"
   ]
  },
  {
   "cell_type": "code",
   "execution_count": 111,
   "metadata": {},
   "outputs": [],
   "source": [
    "# displacement gradient (spectral)\n",
    "du = k @ u"
   ]
  },
  {
   "cell_type": "code",
   "execution_count": 112,
   "metadata": {},
   "outputs": [],
   "source": [
    "# strain tensor\n",
    "E = 1/2 * (du.T + du) - E0"
   ]
  },
  {
   "cell_type": "code",
   "execution_count": 125,
   "metadata": {},
   "outputs": [
    {
     "data": {
      "text/latex": [
       "$\\displaystyle \\left[\\begin{matrix}\\lambda \\left(1.0 U_{z} k_{z} - 3 e_{0} + 1.0 k_{x} u_{x} + 1.0 k_{y} u_{y}\\right) + 2 \\mu \\left(- e_{0} + 1.0 k_{x} u_{x}\\right) & 2 \\mu \\left(0.5 k_{x} u_{y} + 0.5 k_{y} u_{x}\\right) & 2 \\mu \\left(0.5 U_{z} k_{x} + 0.5 k_{z} u_{x}\\right)\\\\2 \\mu \\left(0.5 k_{x} u_{y} + 0.5 k_{y} u_{x}\\right) & \\lambda \\left(1.0 U_{z} k_{z} - 3 e_{0} + 1.0 k_{x} u_{x} + 1.0 k_{y} u_{y}\\right) + 2 \\mu \\left(- e_{0} + 1.0 k_{y} u_{y}\\right) & 2 \\mu \\left(0.5 U_{z} k_{y} + 0.5 k_{z} u_{y}\\right)\\\\2 \\mu \\left(0.5 U_{z} k_{x} + 0.5 k_{z} u_{x}\\right) & 2 \\mu \\left(0.5 U_{z} k_{y} + 0.5 k_{z} u_{y}\\right) & \\lambda \\left(1.0 U_{z} k_{z} - 3 e_{0} + 1.0 k_{x} u_{x} + 1.0 k_{y} u_{y}\\right) + 2 \\mu \\left(1.0 U_{z} k_{z} - e_{0}\\right)\\end{matrix}\\right]$"
      ],
      "text/plain": [
       "Matrix([\n",
       "[\\lambda*(1.0*U_z*k_z - 3*e_0 + 1.0*k_x*u_x + 1.0*k_y*u_y) + 2*\\mu*(-e_0 + 1.0*k_x*u_x),                                                      2*\\mu*(0.5*k_x*u_y + 0.5*k_y*u_x),                                                     2*\\mu*(0.5*U_z*k_x + 0.5*k_z*u_x)],\n",
       "[                                                     2*\\mu*(0.5*k_x*u_y + 0.5*k_y*u_x), \\lambda*(1.0*U_z*k_z - 3*e_0 + 1.0*k_x*u_x + 1.0*k_y*u_y) + 2*\\mu*(-e_0 + 1.0*k_y*u_y),                                                     2*\\mu*(0.5*U_z*k_y + 0.5*k_z*u_y)],\n",
       "[                                                     2*\\mu*(0.5*U_z*k_x + 0.5*k_z*u_x),                                                      2*\\mu*(0.5*U_z*k_y + 0.5*k_z*u_y), \\lambda*(1.0*U_z*k_z - 3*e_0 + 1.0*k_x*u_x + 1.0*k_y*u_y) + 2*\\mu*(1.0*U_z*k_z - e_0)]])"
      ]
     },
     "execution_count": 125,
     "metadata": {},
     "output_type": "execute_result"
    }
   ],
   "source": [
    "# stress tensor\n",
    "s = 2*mu*E + l*trace(E)*I\n",
    "s"
   ]
  },
  {
   "cell_type": "code",
   "execution_count": 126,
   "metadata": {},
   "outputs": [
    {
     "data": {
      "text/latex": [
       "$\\displaystyle \\left[\\begin{matrix}2 \\mu k_{y} \\left(0.5 k_{x} u_{y} + 0.5 k_{y} u_{x}\\right) + 2 \\mu k_{z} \\left(0.5 U_{z} k_{x} + 0.5 k_{z} u_{x}\\right) + k_{x} \\left(\\lambda \\left(1.0 U_{z} k_{z} - 3 e_{0} + 1.0 k_{x} u_{x} + 1.0 k_{y} u_{y}\\right) + 2 \\mu \\left(- e_{0} + 1.0 k_{x} u_{x}\\right)\\right)\\\\2 \\mu k_{x} \\left(0.5 k_{x} u_{y} + 0.5 k_{y} u_{x}\\right) + 2 \\mu k_{z} \\left(0.5 U_{z} k_{y} + 0.5 k_{z} u_{y}\\right) + k_{y} \\left(\\lambda \\left(1.0 U_{z} k_{z} - 3 e_{0} + 1.0 k_{x} u_{x} + 1.0 k_{y} u_{y}\\right) + 2 \\mu \\left(- e_{0} + 1.0 k_{y} u_{y}\\right)\\right)\\\\2 \\mu k_{x} \\left(0.5 U_{z} k_{x} + 0.5 k_{z} u_{x}\\right) + 2 \\mu k_{y} \\left(0.5 U_{z} k_{y} + 0.5 k_{z} u_{y}\\right) + k_{z} \\left(\\lambda \\left(1.0 U_{z} k_{z} - 3 e_{0} + 1.0 k_{x} u_{x} + 1.0 k_{y} u_{y}\\right) + 2 \\mu \\left(1.0 U_{z} k_{z} - e_{0}\\right)\\right)\\end{matrix}\\right]$"
      ],
      "text/plain": [
       "Matrix([\n",
       "[2*\\mu*k_y*(0.5*k_x*u_y + 0.5*k_y*u_x) + 2*\\mu*k_z*(0.5*U_z*k_x + 0.5*k_z*u_x) + k_x*(\\lambda*(1.0*U_z*k_z - 3*e_0 + 1.0*k_x*u_x + 1.0*k_y*u_y) + 2*\\mu*(-e_0 + 1.0*k_x*u_x))],\n",
       "[2*\\mu*k_x*(0.5*k_x*u_y + 0.5*k_y*u_x) + 2*\\mu*k_z*(0.5*U_z*k_y + 0.5*k_z*u_y) + k_y*(\\lambda*(1.0*U_z*k_z - 3*e_0 + 1.0*k_x*u_x + 1.0*k_y*u_y) + 2*\\mu*(-e_0 + 1.0*k_y*u_y))],\n",
       "[ 2*\\mu*k_x*(0.5*U_z*k_x + 0.5*k_z*u_x) + 2*\\mu*k_y*(0.5*U_z*k_y + 0.5*k_z*u_y) + k_z*(\\lambda*(1.0*U_z*k_z - 3*e_0 + 1.0*k_x*u_x + 1.0*k_y*u_y) + 2*\\mu*(1.0*U_z*k_z - e_0))]])"
      ]
     },
     "execution_count": 126,
     "metadata": {},
     "output_type": "execute_result"
    }
   ],
   "source": [
    "# stress divergence\n",
    "M1 = k.T @ s\n",
    "M1.T"
   ]
  },
  {
   "cell_type": "code",
   "execution_count": 131,
   "metadata": {},
   "outputs": [],
   "source": [
    "b = Matrix([\n",
    "  [kx*e0*(3*l+2*mu)],\n",
    "  [ky*e0*(3*l+2*mu)],\n",
    "  [kz*e0*(3*l+2*mu)]])\n",
    "A = Matrix([\n",
    "  [mu*ky**2+mu*kz**2+l*kx**2+2*mu*kx**2, mu*ky*kx+l*kx*ky, mu*kz*kx+l*kz*kx],\n",
    "  [mu*ky*kx+l*kx*ky, mu*kx**2+mu*kz**2+l*ky**2+2*mu*ky**2 , mu*kz*ky+l*kz*ky],\n",
    "  [mu*kz*kx+l*kz*kx ,mu*kz*ky+l*kz*ky, mu*kx**2+mu*ky**2+l*kz**2+2*mu*kz**2]])\n",
    "M2 = A * u.T - b"
   ]
  },
  {
   "cell_type": "code",
   "execution_count": 132,
   "metadata": {},
   "outputs": [
    {
     "data": {
      "text/latex": [
       "$\\displaystyle \\left[\\begin{matrix}0\\\\0\\\\0\\end{matrix}\\right]$"
      ],
      "text/plain": [
       "Matrix([\n",
       "[0],\n",
       "[0],\n",
       "[0]])"
      ]
     },
     "execution_count": 132,
     "metadata": {},
     "output_type": "execute_result"
    }
   ],
   "source": [
    "simplify(M2-M1.T)"
   ]
  },
  {
   "cell_type": "code",
   "execution_count": 123,
   "metadata": {},
   "outputs": [
    {
     "data": {
      "text/latex": [
       "$\\displaystyle \\left[\\begin{matrix}\\lambda k_{x}^{2} + 2 \\mu k_{x}^{2} + \\mu k_{y}^{2} + \\mu k_{z}^{2} & k_{x} k_{y} \\left(\\lambda + \\mu\\right) & k_{x} k_{z} \\left(\\lambda + \\mu\\right)\\\\k_{x} k_{y} \\left(\\lambda + \\mu\\right) & \\lambda k_{y}^{2} + \\mu k_{x}^{2} + 2 \\mu k_{y}^{2} + \\mu k_{z}^{2} & k_{y} k_{z} \\left(\\lambda + \\mu\\right)\\\\k_{x} k_{z} \\left(\\lambda + \\mu\\right) & k_{y} k_{z} \\left(\\lambda + \\mu\\right) & \\lambda k_{z}^{2} + \\mu k_{x}^{2} + \\mu k_{y}^{2} + 2 \\mu k_{z}^{2}\\end{matrix}\\right]$"
      ],
      "text/plain": [
       "Matrix([\n",
       "[\\lambda*k_x**2 + 2*\\mu*k_x**2 + \\mu*k_y**2 + \\mu*k_z**2,                                 k_x*k_y*(\\lambda + \\mu),                                 k_x*k_z*(\\lambda + \\mu)],\n",
       "[                                k_x*k_y*(\\lambda + \\mu), \\lambda*k_y**2 + \\mu*k_x**2 + 2*\\mu*k_y**2 + \\mu*k_z**2,                                 k_y*k_z*(\\lambda + \\mu)],\n",
       "[                                k_x*k_z*(\\lambda + \\mu),                                 k_y*k_z*(\\lambda + \\mu), \\lambda*k_z**2 + \\mu*k_x**2 + \\mu*k_y**2 + 2*\\mu*k_z**2]])"
      ]
     },
     "execution_count": 123,
     "metadata": {},
     "output_type": "execute_result"
    }
   ],
   "source": [
    "simplify(A)"
   ]
  },
  {
   "cell_type": "code",
   "execution_count": 124,
   "metadata": {},
   "outputs": [
    {
     "data": {
      "text/latex": [
       "$\\displaystyle \\left[\\begin{matrix}2 k_{x} \\left(3 \\lambda e_{0} + \\mu e_{0}\\right)\\\\2 k_{y} \\left(3 \\lambda e_{0} + \\mu e_{0}\\right)\\\\2 k_{z} \\left(3 \\lambda e_{0} + \\mu e_{0}\\right)\\end{matrix}\\right]$"
      ],
      "text/plain": [
       "Matrix([\n",
       "[2*k_x*(3*\\lambda*e_0 + \\mu*e_0)],\n",
       "[2*k_y*(3*\\lambda*e_0 + \\mu*e_0)],\n",
       "[2*k_z*(3*\\lambda*e_0 + \\mu*e_0)]])"
      ]
     },
     "execution_count": 124,
     "metadata": {},
     "output_type": "execute_result"
    }
   ],
   "source": [
    "b"
   ]
  },
  {
   "cell_type": "code",
   "execution_count": null,
   "metadata": {},
   "outputs": [],
   "source": []
  }
 ],
 "metadata": {
  "kernelspec": {
   "display_name": "jupyter",
   "language": "python",
   "name": "python3"
  },
  "language_info": {
   "codemirror_mode": {
    "name": "ipython",
    "version": 3
   },
   "file_extension": ".py",
   "mimetype": "text/x-python",
   "name": "python",
   "nbconvert_exporter": "python",
   "pygments_lexer": "ipython3",
   "version": "3.10.6"
  }
 },
 "nbformat": 4,
 "nbformat_minor": 2
}
